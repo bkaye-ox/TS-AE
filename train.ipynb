{
 "cells": [
  {
   "cell_type": "code",
   "execution_count": null,
   "metadata": {},
   "outputs": [],
   "source": [
    "import pandas as pd\n",
    "import numpy as np\n",
    "import torch\n",
    "import tsnets\n",
    "import torch.utils.data as tdata\n",
    "\n",
    "import plotly.express as px\n"
   ]
  },
  {
   "cell_type": "code",
   "execution_count": null,
   "metadata": {},
   "outputs": [],
   "source": [
    "\n",
    "device = \"cuda\" if torch.cuda.is_available() else \"cpu\"\n",
    "print(f\"Using {device} device\")\n",
    "#"
   ]
  },
  {
   "cell_type": "code",
   "execution_count": null,
   "metadata": {},
   "outputs": [],
   "source": [
    "main_settings = dict(\n",
    "    src='ts.feather',\n",
    "    N_pred=10,\n",
    "    nx=4,\n",
    "    N_y=5,\n",
    "    N_u=5,\n",
    "\n",
    ")"
   ]
  },
  {
   "cell_type": "code",
   "execution_count": null,
   "metadata": {},
   "outputs": [],
   "source": [
    "\n",
    "def train(dataloader, model,  loss_params, optimizer, N_epochs, losses):\n",
    "    size = len(dataloader.dataset)\n",
    "\n",
    "    # model.set_loss_fn(loss_fn,)\n",
    "\n",
    "    model.train()\n",
    "    for epoch in range(N_epochs):\n",
    "        for batch, X in enumerate(dataloader):\n",
    "            X = [x.to(device) for x in X]\n",
    "\n",
    "            # Compute prediction error\n",
    "            # pred = model(*X)\n",
    "            # out = model.get_x_kp1(*X[:2])\n",
    "            # loss = loss_fn(pred, out)\n",
    "\n",
    "            loss = model.train_loss(X, loss_params)\n",
    "\n",
    "            # Backpropagation\n",
    "            optimizer.zero_grad()\n",
    "            loss.backward()\n",
    "            optimizer.step()\n",
    "\n",
    "            losses.append(loss.item())\n",
    "\n",
    "            if batch % 100 == 0:\n",
    "                # loss, current = loss.item(), batch * len(X)\n",
    "                current = batch * len(X)\n",
    "\n",
    "                print(f\"loss: {losses[-1]:>7f}  [{current:>5d}/{size:>5d}]\")\n"
   ]
  },
  {
   "cell_type": "code",
   "execution_count": null,
   "metadata": {},
   "outputs": [],
   "source": [
    "train_ds = tsnets.TSDataSet(**main_settings, test=False)\n",
    "test_ds = tsnets.TSDataSet(**main_settings, test=True)\n",
    "\n",
    "loader = tdata.DataLoader(\n",
    "    dataset=train_ds, batch_size=128, shuffle=True, drop_last=True)\n",
    "test_dataloader = tdata.DataLoader(test_ds, batch_size=128, drop_last=True)\n",
    "\n",
    "params = train_ds.get_params() | dict(loss_fn=torch.nn.L1Loss())\n",
    "model = tsnets.TSNet(**params)\n",
    "\n",
    "phase1_loss = dict(a=10., b=0.3, c=0.)\n",
    "phase2_loss = dict(a=0., b=10., c=1.)\n",
    "\n",
    "\n",
    "optimizer = torch.optim.Adam(model.parameters(), weight_decay=1e-5)\n",
    "\n",
    "\n"
   ]
  },
  {
   "cell_type": "code",
   "execution_count": null,
   "metadata": {},
   "outputs": [],
   "source": [
    "losses = []\n",
    "\n",
    "num_epochs = 50\n",
    "\n",
    "train(dataloader=loader, model=model, loss_params=phase1_loss,\n",
    "      optimizer=optimizer, N_epochs=num_epochs, losses=losses)\n",
    "train(dataloader=loader, model=model, loss_params=phase2_loss,\n",
    "      optimizer=optimizer, N_epochs=num_epochs, losses=losses)\n",
    "px.line(y=losses, log_y=True).show()"
   ]
  },
  {
   "cell_type": "code",
   "execution_count": null,
   "metadata": {},
   "outputs": [],
   "source": [
    "\n",
    "model.eval()\n",
    "\n",
    "res = []\n",
    "for I in test_dataloader:\n",
    "    with torch.no_grad():\n",
    "        I_km1 = I[0]\n",
    "        u_k = model._u_k(I_k=I[1])\n",
    "        preds = model.predict1(I_km1=I_km1, u_k=u_k)\n",
    "        ground_truth = model._y_k(I_k=I[1])\n",
    "\n",
    "        res.append([preds.numpy().reshape(-1,),\n",
    "                   ground_truth.numpy().reshape(-1,)])\n",
    "\n",
    "\n",
    "res = [np.concatenate(l) for l in list(zip(*res))]\n",
    "\n",
    "\n",
    "df = pd.DataFrame()\n",
    "df['ypred'], df['y'] = res\n"
   ]
  },
  {
   "cell_type": "code",
   "execution_count": null,
   "metadata": {},
   "outputs": [],
   "source": [
    "px.line(df, y=['y', 'ypred'])\n"
   ]
  }
 ],
 "metadata": {
  "kernelspec": {
   "display_name": "Python 3",
   "language": "python",
   "name": "python3"
  },
  "language_info": {
   "name": "python",
   "version": "3.10.9 (tags/v3.10.9:1dd9be6, Dec  6 2022, 20:01:21) [MSC v.1934 64 bit (AMD64)]"
  },
  "orig_nbformat": 4,
  "vscode": {
   "interpreter": {
    "hash": "4c32fcb3042214e18c317fa11333e48d1c75b6ea5edc2796381549cc5c3bea0c"
   }
  }
 },
 "nbformat": 4,
 "nbformat_minor": 2
}
